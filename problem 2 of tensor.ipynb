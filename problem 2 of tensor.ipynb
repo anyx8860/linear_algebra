{
 "cells": [
  {
   "cell_type": "markdown",
   "metadata": {},
   "source": [
    "# Problem 2\n",
    "\n",
    "$$\\text{Prove that if $v_1, \\dots,v_n$ are linearly dependent ,then}$$\n",
    "\n",
    "$$v_1 \\Lambda \\dots \\Lambda v_n$$"
   ]
  },
  {
   "cell_type": "markdown",
   "metadata": {},
   "source": [
    "$$\\text{since the vectors are linear dependent let there be a vector $v_k = \\alpha v_i + \\beta v_j$ thus,}$$\n",
    "\n",
    "$$v_1 \\Lambda \\dots \\Lambda v_n = v_1 \\Lambda \\dots \\Lambda v_k \\Lambda \\dots \\Lambda v_n = v_1 \\Lambda \\dots \\Lambda (\\alpha v_i + \\beta v_j) \\Lambda \\dots \\Lambda v_n =$$ $$v_1 \\Lambda \\dots \\Lambda \\alpha v_i \\Lambda \\dots \\Lambda v_n + v_1 \\Lambda \\dots \\Lambda \\beta v_k \\Lambda \\dots \\Lambda v_n = v_1 \\Lambda \\dots \\Lambda v_i \\Lambda \\dots \\Lambda \\alpha v_i \\Lambda \\dots \\Lambda v_n + v_1 \\Lambda \\dots \\Lambda v_k \\Lambda \\dots \\Lambda \\beta v_k \\Lambda \\dots \\Lambda v_n$$\n",
    "\n",
    "$$\\text{since by defintion $e_i \\Lambda e_i = 0$ thus $v_1 \\Lambda \\dots \\Lambda v_i \\Lambda \\dots \\Lambda \\alpha v_i \\Lambda \\dots \\Lambda v_n + v_1 \\Lambda \\dots \\Lambda v_k \\Lambda \\dots \\Lambda \\beta v_k \\Lambda \\dots \\Lambda v_n = 0 + 0= 0$}$$"
   ]
  },
  {
   "cell_type": "code",
   "execution_count": null,
   "metadata": {},
   "outputs": [],
   "source": []
  }
 ],
 "metadata": {
  "kernelspec": {
   "display_name": "Python 3",
   "language": "python",
   "name": "python3"
  },
  "language_info": {
   "codemirror_mode": {
    "name": "ipython",
    "version": 3
   },
   "file_extension": ".py",
   "mimetype": "text/x-python",
   "name": "python",
   "nbconvert_exporter": "python",
   "pygments_lexer": "ipython3",
   "version": "3.7.3"
  }
 },
 "nbformat": 4,
 "nbformat_minor": 2
}
