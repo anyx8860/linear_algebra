{
 "cells": [
  {
   "cell_type": "markdown",
   "metadata": {},
   "source": [
    "# Problem 7\n",
    "\n",
    "$$\\text{Prove that the determinet of a coposition of operators equalsthe product of determinants. if$S,T \\ \\in \\jmath(V)$}$$\n",
    "$$det(S \\bigcirc T) = det(S)det(T)$$"
   ]
  },
  {
   "cell_type": "markdown",
   "metadata": {},
   "source": [
    "$$\\text{note that $S \\bigcirc T=[s_1, \\dots , s_n] \\cdot [t_1, \\dots , t_n] = [s_1 \\cdot t_1, \\dots, s_n \\cdot t_n]$ Thus}$$\n",
    "$$det(S \\bigcirc T) = det(s_1 \\cdot t_1, \\dots, s_n \\cdot t_n) = s_1 \\cdot t_1 \\wedge \\dots \\wedge s_n \\cdot t_n = s_1 \\wedge \\dots \\wedge s_n \\cdot t_1 \\wedge \\dots \\wedge t_n = det(S)det(T)$$"
   ]
  },
  {
   "cell_type": "code",
   "execution_count": null,
   "metadata": {},
   "outputs": [],
   "source": []
  }
 ],
 "metadata": {
  "kernelspec": {
   "display_name": "Python 3",
   "language": "python",
   "name": "python3"
  },
  "language_info": {
   "codemirror_mode": {
    "name": "ipython",
    "version": 3
   },
   "file_extension": ".py",
   "mimetype": "text/x-python",
   "name": "python",
   "nbconvert_exporter": "python",
   "pygments_lexer": "ipython3",
   "version": "3.7.3"
  }
 },
 "nbformat": 4,
 "nbformat_minor": 2
}
